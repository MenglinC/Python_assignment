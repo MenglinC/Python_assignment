{
 "cells": [
  {
   "cell_type": "markdown",
   "id": "6fcdabf2",
   "metadata": {},
   "source": [
    "题目：企业发放的奖金根据利润提成。利润(I)低于或等于10万元时，奖金可提10%；利润高于10万元，低于20万元时，低于10万元的部分按10%提成，高于10万元的部分，可提成7.5%；20万到40万之间时，高于20万元的部分，可提成5%；40万到60万之间时高于40万元的部分，可提成3%；60万到100万之间时，高于60万元的部分，可提成1.5%，高于100万元时，超过100万元的部分按1%提成，从键盘输入当月利润I，求应发放奖金总数？"
   ]
  },
  {
   "cell_type": "code",
   "execution_count": 5,
   "id": "b3f82aba",
   "metadata": {},
   "outputs": [],
   "source": [
    "def prize(I):\n",
    "    if I<=10:\n",
    "        p=I*0.1\n",
    "    if 10<I<=20:\n",
    "        p=10*0.1+(I-10)*0.075\n",
    "    if 20<I<=40:\n",
    "        p=(I-20)*0.05\n",
    "    if 40<I<=60:\n",
    "        p=(I-40)*0.03\n",
    "    if 60<I<=100:\n",
    "        p=(I-60)*0.015\n",
    "    if 100<I:\n",
    "        p=(I-100)*0.01\n",
    "    return p    "
   ]
  },
  {
   "cell_type": "code",
   "execution_count": 6,
   "id": "2878318a",
   "metadata": {},
   "outputs": [
    {
     "data": {
      "text/plain": [
       "9.0"
      ]
     },
     "execution_count": 6,
     "metadata": {},
     "output_type": "execute_result"
    }
   ],
   "source": [
    "prize(1000)"
   ]
  },
  {
   "cell_type": "code",
   "execution_count": 12,
   "id": "23b40ba5",
   "metadata": {},
   "outputs": [],
   "source": [
    "\n",
    "def prize(i):\n",
    "    arr = [1000000,600000,400000,200000,100000,0]\n",
    "    rat = [0.01,0.015,0.03,0.05,0.075,0.1]\n",
    "    r = 0\n",
    "    for idx in range(0,6):\n",
    "        if i>=arr[idx]:\n",
    "            r+=(i-arr[idx])*rat[idx]\n",
    "            i=arr[idx]\n",
    "    return (r)\n"
   ]
  },
  {
   "cell_type": "code",
   "execution_count": 13,
   "id": "0452fcc6",
   "metadata": {},
   "outputs": [
    {
     "name": "stdout",
     "output_type": "stream",
     "text": [
      "净利润:1000\n"
     ]
    },
    {
     "data": {
      "text/plain": [
       "100.0"
      ]
     },
     "execution_count": 13,
     "metadata": {},
     "output_type": "execute_result"
    }
   ],
   "source": [
    "i = int(input('净利润:'))\n",
    "prize(i)"
   ]
  },
  {
   "cell_type": "markdown",
   "id": "83d8fff8",
   "metadata": {},
   "source": [
    "原先以为是非常“简单”的一道for循环的题目。\n",
    "后来一看答案还是觉得学到了不少。\n",
    "（1）首先是使用两个列表去一一对应的存储值。然后使用共同的索引去提取。\n",
    "（2）其次是对于题目的理解不同，我原以为是超过的部分乘以某数，但是实际上是一种累积的利润。这是我没有考虑到的地方。\n",
    "（3）最后，学会遍历的时候使用range(0,6),第一题中也出现了类似的用法。"
   ]
  },
  {
   "cell_type": "code",
   "execution_count": null,
   "id": "9a6aa1af",
   "metadata": {},
   "outputs": [],
   "source": []
  }
 ],
 "metadata": {
  "kernelspec": {
   "display_name": "Python 3 (ipykernel)",
   "language": "python",
   "name": "python3"
  },
  "language_info": {
   "codemirror_mode": {
    "name": "ipython",
    "version": 3
   },
   "file_extension": ".py",
   "mimetype": "text/x-python",
   "name": "python",
   "nbconvert_exporter": "python",
   "pygments_lexer": "ipython3",
   "version": "3.7.4"
  }
 },
 "nbformat": 4,
 "nbformat_minor": 5
}
