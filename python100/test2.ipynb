{
 "cells": [
  {
   "cell_type": "markdown",
   "id": "038f1050",
   "metadata": {},
   "source": [
    "### Question 7: /20 Mark(s)\n",
    "We wish to do an experiment to determine if ants search for food using a random search or directed search method. To help design the experiment we first will run some simulations. In the experiment, ants are placed inside a 50 mm $\\times$ 50 mm box. They cannot climb the wall, but can escape through an opening of size 5 mm in the wall. Repeated measurements of how far an ant travels in 1 second show an average speed of 2 mm per second. Our simulation needs to determine the probability that an ant escapes the box in 600 seconds (hint: so your main iteration would look like `for t in range(600):`) if their motion is indeed random. Assume the ant is always initially placed in the center of the box and simulate a simple random walk in 2D on discrete time in this fashion: Have the ant live on a discrete lattice. The ant takes 2 mm to the left if a random number $u$ satisfies $u < 0.25$. The ant moves 2 mm to the right if $0.25 \\leq u < 0.5$, the ant moves 2 mm up if $0.5 \\leq u < 0.75$, and 2 mm down if $0.75 \\leq u \\leq 1.0$. $u$ is distributed uniformly between 0 and 1 (hint: use `np.random.uniform(low=0.0, high=1)` to generate it). If a step would take the ant into a wall, repeat the step until it is successful (result is still one time-step). With `attempts = np.linspace(10, 1000, 19)`, run your main iteration under the loop `for M in attempts:` and construct a dataframe with columns for number of attempts (i.e. `M`), number of escapes, and probability of escape for every `M`. Your dataframe would eventually look something like this with 19 rows and real values:\n",
    "attempts | escapes| probability\n",
    "|---|---|---|\n",
    "|10|x1|y1|\n",
    "|65|x2|y2|\n",
    "|...|...|...|\n",
    "|1000|x19|y19|"
   ]
  },
  {
   "cell_type": "code",
   "execution_count": null,
   "id": "bb572ecc",
   "metadata": {},
   "outputs": [],
   "source": [
    "attempts = np.linspace(10, 1000, 19)\n",
    "x    = 50       # box size in x-direction\n",
    "y    = 50       # box size in y-direction\n",
    "time = 600      # in seconds\n",
    "\n",
    "# coordinate of one arbitrary opening of size 5 mm:\n",
    "### your stuff\n",
    "\n",
    "# distance in millimeters that the ant travels per second\n",
    "delta  =\n",
    "\n",
    "### your stuff\n",
    "\n",
    "for M in attempts:\n",
    "    escape = 0\n",
    "    for trial in range(int(M)):\n",
    "        ### your stuff\n",
    "        \n",
    "        for t in range(time):\n",
    "            ### your stuff\n",
    "                \n",
    "    ### your stuff\n",
    "\n",
    "### your stuff\n",
    "\n",
    "ant = pd.concat([df_attempts, df_escapes, df_probability], axis=1)\n",
    "ant.head()"
   ]
  },
  {
   "cell_type": "code",
   "execution_count": 9,
   "id": "f2bb1a93",
   "metadata": {},
   "outputs": [],
   "source": [
    "import numpy as np\n",
    "import pandas as pd\n",
    "\n",
    "#attempts = np.linspace(10, 1000, 19) #随机生成遍历次数\n",
    "attempts = np.linspace(100, 1000, 19)\n",
    "\n",
    "x    = 50       # box size in x-direction\n",
    "y    = 50       # box size in y-direction\n",
    "time = 600      # in seconds\n",
    "# distance in millimeters that the ant travels per second\n",
    "delta  = 2\n",
    "# coordinate of one arbitrary opening of size 5 mm:\n",
    "x1=22.5 \n",
    "y1=50\n",
    "x2=27.5\n",
    "y2=50"
   ]
  },
  {
   "cell_type": "code",
   "execution_count": 10,
   "id": "cd539daf",
   "metadata": {},
   "outputs": [
    {
     "data": {
      "text/plain": [
       "array([ 100.,  150.,  200.,  250.,  300.,  350.,  400.,  450.,  500.,\n",
       "        550.,  600.,  650.,  700.,  750.,  800.,  850.,  900.,  950.,\n",
       "       1000.])"
      ]
     },
     "execution_count": 10,
     "metadata": {},
     "output_type": "execute_result"
    }
   ],
   "source": [
    "attempts"
   ]
  },
  {
   "cell_type": "code",
   "execution_count": null,
   "id": "6f6dd277",
   "metadata": {},
   "outputs": [],
   "source": [
    "reant=[]\n",
    "for M in attempts:\n",
    "    escape = 0\n",
    "    for trial in range(int(M)):\n",
    "        x0=25\n",
    "        y0=25\n",
    "        for t in range(time):\n",
    "            u = np.random.uniform(low=0.0,high=1)\n",
    "            if u<0.25:\n",
    "                x0=x0-delta\n",
    "            if 0.25<=u and u<0.5:\n",
    "                x0=x0+delta\n",
    "            if 0.5<=u and u<0.75:\n",
    "                y0=y0+delta\n",
    "            if 0.75<=u and u<=1:\n",
    "                y0=y0-delta\n",
    "\n",
    "            if x1<=x0<=x2 and y0>y1:\n",
    "                escape=escape+1\n",
    "                break\n",
    "            \n",
    "            while 0>x0 or x0>50 or 0>y0 or y0>50:\n",
    "                u = np.random.uniform(low=0.0,high=1)\n",
    "                if u<0.25:\n",
    "                    x0=x0-delta\n",
    "                if 0.25<=u and u<0.5:\n",
    "                    x0=x0+delta\n",
    "                if 0.5<=u and u<0.75:\n",
    "                    y0=y0+delta\n",
    "                if 0.75<=u and u<=1:\n",
    "                    y0=y0-delta\n",
    "                if  0<x0<50 and 0<y0<50:\n",
    "                    break\n",
    "    \n",
    "    probability = escape/int(M) \n",
    "    result = [int(M),escape,probability]\n",
    "    reant.append(result)"
   ]
  },
  {
   "cell_type": "code",
   "execution_count": 8,
   "id": "376ed0dc",
   "metadata": {},
   "outputs": [
    {
     "data": {
      "text/html": [
       "<div>\n",
       "<style scoped>\n",
       "    .dataframe tbody tr th:only-of-type {\n",
       "        vertical-align: middle;\n",
       "    }\n",
       "\n",
       "    .dataframe tbody tr th {\n",
       "        vertical-align: top;\n",
       "    }\n",
       "\n",
       "    .dataframe thead th {\n",
       "        text-align: right;\n",
       "    }\n",
       "</style>\n",
       "<table border=\"1\" class=\"dataframe\">\n",
       "  <thead>\n",
       "    <tr style=\"text-align: right;\">\n",
       "      <th></th>\n",
       "      <th>0</th>\n",
       "      <th>1</th>\n",
       "      <th>2</th>\n",
       "    </tr>\n",
       "  </thead>\n",
       "  <tbody>\n",
       "    <tr>\n",
       "      <th>0</th>\n",
       "      <td>1</td>\n",
       "      <td>0</td>\n",
       "      <td>0.0</td>\n",
       "    </tr>\n",
       "  </tbody>\n",
       "</table>\n",
       "</div>"
      ],
      "text/plain": [
       "   0  1    2\n",
       "0  1  0  0.0"
      ]
     },
     "execution_count": 8,
     "metadata": {},
     "output_type": "execute_result"
    }
   ],
   "source": [
    "df_attempts=pd.Series([x[0] for x in reant])\n",
    "df_escapes=pd.Series([x[1] for x in reant])\n",
    "df_probability=pd.Series([x[2] for x in reant])\n",
    "\n",
    "\n",
    "ant = pd.concat([df_attempts, df_escapes, df_probability], axis=1)\n",
    "ant.head()"
   ]
  },
  {
   "cell_type": "code",
   "execution_count": null,
   "id": "b59ec210",
   "metadata": {},
   "outputs": [],
   "source": []
  }
 ],
 "metadata": {
  "kernelspec": {
   "display_name": "Python 3 (ipykernel)",
   "language": "python",
   "name": "python3"
  },
  "language_info": {
   "codemirror_mode": {
    "name": "ipython",
    "version": 3
   },
   "file_extension": ".py",
   "mimetype": "text/x-python",
   "name": "python",
   "nbconvert_exporter": "python",
   "pygments_lexer": "ipython3",
   "version": "3.7.4"
  }
 },
 "nbformat": 4,
 "nbformat_minor": 5
}
