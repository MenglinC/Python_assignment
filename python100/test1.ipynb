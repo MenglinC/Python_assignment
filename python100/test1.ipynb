{
 "cells": [
  {
   "cell_type": "code",
   "execution_count": 1,
   "id": "9c9542c5",
   "metadata": {},
   "outputs": [],
   "source": [
    "#python100 1/100  10-11"
   ]
  },
  {
   "cell_type": "code",
   "execution_count": null,
   "id": "28e983f9",
   "metadata": {},
   "outputs": [],
   "source": [
    "#题目：有四个数字：1、2、3、4，能组成多少个互不相同且无重复数字的三位数？各是多少？"
   ]
  },
  {
   "cell_type": "code",
   "execution_count": null,
   "id": "d3aadbb0",
   "metadata": {},
   "outputs": [],
   "source": [
    "#下面的代码可以实现：\n",
    "#（1）对于任意长度（n>2）的集合，我们得到其所有可能的三位数的结果。\n",
    "#（2）输出所有可能的结果。\n",
    "#（3）输出所有可能的结果的数量。"
   ]
  },
  {
   "cell_type": "code",
   "execution_count": null,
   "id": "be6d9ab5",
   "metadata": {},
   "outputs": [],
   "source": [
    "#主要学到的地方：\n",
    "#(1)集合和列表在使用上的区别；集合中的元素是无顺序的。而列表则有非常严格的顺序的区别。\n",
    "#(2)set.remove()和set.add()\n",
    "#(3)在循环的时候，需要限制循环的次数，否则会有冗余的结果出现。n*n-1*n-2……\n",
    "#(4)使用break及时中断循环"
    "#(5)其实在想，如果学数据结构的话，应该会知道怎样做会更加有效的达到效果。有些东西是你在用的时候，你才知道它意味着什么？我觉得学习的过程中问题导向的思维很重要。"
   ]
  },
  {
   "cell_type": "code",
   "execution_count": null,
   "id": "75e72ea7",
   "metadata": {},
   "outputs": [],
   "source": [
    "import numpy as np"
   ]
  },
  {
   "cell_type": "code",
   "execution_count": 4,
   "id": "6a55f36b",
   "metadata": {},
   "outputs": [],
   "source": [
    "#要求输入4个数字，输出互不相同且无重复数字的三位数，输出多少种可能，以及是什么？\n",
    "def enumerateNum(numlist):\n",
    "    n = len(numlist)\n",
    "    ln =  np.random.choice(a=numlist, size=n, replace=False, p=None)\n",
    "    print(ln)"
   ]
  },
  {
   "cell_type": "code",
   "execution_count": 1,
   "id": "8a6016e3",
   "metadata": {},
   "outputs": [
    {
     "ename": "NameError",
     "evalue": "name 'enumerateNum' is not defined",
     "output_type": "error",
     "traceback": [
      "\u001b[1;31m---------------------------------------------------------------------------\u001b[0m",
      "\u001b[1;31mNameError\u001b[0m                                 Traceback (most recent call last)",
      "\u001b[1;32m~\\AppData\\Local\\Temp\\ipykernel_15692\\1174095266.py\u001b[0m in \u001b[0;36m<module>\u001b[1;34m\u001b[0m\n\u001b[0;32m      1\u001b[0m \u001b[0minput\u001b[0m \u001b[1;33m=\u001b[0m \u001b[1;33m[\u001b[0m\u001b[1;36m1\u001b[0m\u001b[1;33m,\u001b[0m\u001b[1;36m2\u001b[0m\u001b[1;33m,\u001b[0m\u001b[1;36m3\u001b[0m\u001b[1;33m,\u001b[0m\u001b[1;36m4\u001b[0m\u001b[1;33m]\u001b[0m\u001b[1;33m\u001b[0m\u001b[1;33m\u001b[0m\u001b[0m\n\u001b[1;32m----> 2\u001b[1;33m \u001b[0menumerateNum\u001b[0m\u001b[1;33m(\u001b[0m\u001b[0minput\u001b[0m\u001b[1;33m)\u001b[0m\u001b[1;33m\u001b[0m\u001b[1;33m\u001b[0m\u001b[0m\n\u001b[0m",
      "\u001b[1;31mNameError\u001b[0m: name 'enumerateNum' is not defined"
     ]
    }
   ],
   "source": [
    "input = [1,2,3,4]\n",
    "enumerateNum(input)"
   ]
  },
  {
   "cell_type": "code",
   "execution_count": null,
   "id": "64a92947",
   "metadata": {},
   "outputs": [],
   "source": [
    "count = 4*3*2 #主观性太大\n",
    "numlist = [1,2,3,4]\n",
    "while count>0:\n",
    "    ln =  np.random.choice(a=numlist, size=3, replace=False, p=None) #用抽样的方法不行\n",
    "    #print(len(ln))\n",
    "    result = ln[0]*100+ln[1]*10+ln[2]*1\n",
    "    #print(result)\n",
    "    count=count-1"
   ]
  },
  {
   "cell_type": "code",
   "execution_count": 15,
   "id": "7a9c8276",
   "metadata": {},
   "outputs": [
    {
     "name": "stdout",
     "output_type": "stream",
     "text": [
      "123\n",
      "124\n",
      "132\n",
      "134\n",
      "142\n",
      "143\n",
      "213\n",
      "214\n",
      "231\n",
      "234\n",
      "241\n",
      "243\n",
      "312\n",
      "314\n",
      "321\n",
      "324\n",
      "321\n",
      "324\n",
      "341\n",
      "342\n",
      "412\n",
      "413\n",
      "423\n",
      "421\n",
      "432\n",
      "431\n",
      "412\n",
      "413\n"
     ]
    }
   ],
   "source": [
    "#如果使用枚举呢？感觉需要使用多个for循环\n",
    "#这里有一个bug就是list是有顺序的\n",
    "numlist = {1,2,3,4}\n",
    "m = 3 #这个基本上没用\n",
    "n = 0\n",
    "for i in numlist:\n",
    "    a=i*100\n",
    "    numlist.remove(i)\n",
    "    for j in numlist:\n",
    "        b=j*10\n",
    "        numlist.remove(j)\n",
    "        for l in numlist: #还剩2个\n",
    "            c = l\n",
    "            result=a+b+c\n",
    "            print(result)\n",
    "        numlist.add(j)\n",
    "    n = n+1\n",
    "    if n>m:\n",
    "        break\n",
    "    numlist.add(i)#4会循环很多次\n"
   ]
  },
  {
   "cell_type": "code",
   "execution_count": 71,
   "id": "26f89b48",
   "metadata": {},
   "outputs": [],
   "source": [
    "def enumerateNum(numlist):\n",
    "    n = 1\n",
    "    m = len(numlist)\n",
    "    count=0\n",
    "    for i in numlist:\n",
    "        a=i*100\n",
    "        numlist.remove(i)\n",
    "        s = 2\n",
    "        for j in numlist:\n",
    "            b=j*10\n",
    "            numlist.remove(j)\n",
    "            for l in numlist: #还剩2个\n",
    "                c = l\n",
    "                result=a+b+c\n",
    "                print(result)\n",
    "                count = count+1\n",
    "            #print(numlist)\n",
    "            numlist.add(j)\n",
    "            s = s+1\n",
    "            if s>m:\n",
    "                break\n",
    "        n = n+1\n",
    "        #print(numlist)\n",
    "        if n>m:\n",
    "            break\n",
    "        numlist.add(i)#4会循环很多次\n",
    "    print(count)"
   ]
  },
  {
   "cell_type": "code",
   "execution_count": 74,
   "id": "3d8dc5fa",
   "metadata": {
    "scrolled": true
   },
   "outputs": [
    {
     "name": "stdout",
     "output_type": "stream",
     "text": [
      "123\n",
      "124\n",
      "125\n",
      "132\n",
      "134\n",
      "135\n",
      "142\n",
      "143\n",
      "145\n",
      "152\n",
      "153\n",
      "154\n",
      "213\n",
      "214\n",
      "215\n",
      "213\n",
      "214\n",
      "215\n",
      "231\n",
      "234\n",
      "235\n",
      "241\n",
      "243\n",
      "245\n",
      "314\n",
      "315\n",
      "312\n",
      "314\n",
      "315\n",
      "312\n",
      "341\n",
      "345\n",
      "342\n",
      "351\n",
      "354\n",
      "352\n",
      "415\n",
      "412\n",
      "413\n",
      "415\n",
      "412\n",
      "413\n",
      "451\n",
      "452\n",
      "453\n",
      "421\n",
      "425\n",
      "423\n",
      "512\n",
      "513\n",
      "514\n",
      "512\n",
      "513\n",
      "514\n",
      "521\n",
      "523\n",
      "524\n",
      "531\n",
      "532\n",
      "534\n",
      "60\n"
     ]
    }
   ],
   "source": [
    "numlist = {1,2,3,4,5}\n",
    "enumerateNum(numlist)"
   ]
  }
 ],
 "metadata": {
  "kernelspec": {
   "display_name": "Python 3 (ipykernel)",
   "language": "python",
   "name": "python3"
  },
  "language_info": {
   "codemirror_mode": {
    "name": "ipython",
    "version": 3
   },
   "file_extension": ".py",
   "mimetype": "text/x-python",
   "name": "python",
   "nbconvert_exporter": "python",
   "pygments_lexer": "ipython3",
   "version": "3.7.4"
  }
 },
 "nbformat": 4,
 "nbformat_minor": 5
}
